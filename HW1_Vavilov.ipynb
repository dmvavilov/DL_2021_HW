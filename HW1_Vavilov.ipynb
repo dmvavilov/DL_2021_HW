{
  "nbformat": 4,
  "nbformat_minor": 0,
  "metadata": {
    "kernelspec": {
      "display_name": "Python 3",
      "language": "python",
      "name": "python3"
    },
    "language_info": {
      "codemirror_mode": {
        "name": "ipython",
        "version": 3
      },
      "file_extension": ".py",
      "mimetype": "text/x-python",
      "name": "python",
      "nbconvert_exporter": "python",
      "pygments_lexer": "ipython3",
      "version": "3.6.9"
    },
    "toc-autonumbering": false,
    "colab": {
      "name": "homework-Vavilov.ipynb",
      "provenance": [],
      "collapsed_sections": []
    },
    "widgets": {
      "application/vnd.jupyter.widget-state+json": {
        "5735a560c8a74f7ebba7bf92fa637d38": {
          "model_module": "@jupyter-widgets/controls",
          "model_name": "HBoxModel",
          "state": {
            "_view_name": "HBoxView",
            "_dom_classes": [],
            "_model_name": "HBoxModel",
            "_view_module": "@jupyter-widgets/controls",
            "_model_module_version": "1.5.0",
            "_view_count": null,
            "_view_module_version": "1.5.0",
            "box_style": "",
            "layout": "IPY_MODEL_01fda205f55641ec822dd56befe5be54",
            "_model_module": "@jupyter-widgets/controls",
            "children": [
              "IPY_MODEL_dd3bfe37e093475b98494173adb6b459",
              "IPY_MODEL_dffe254b5c274870bdb8e8db8ba7d7ce"
            ]
          }
        },
        "01fda205f55641ec822dd56befe5be54": {
          "model_module": "@jupyter-widgets/base",
          "model_name": "LayoutModel",
          "state": {
            "_view_name": "LayoutView",
            "grid_template_rows": null,
            "right": null,
            "justify_content": null,
            "_view_module": "@jupyter-widgets/base",
            "overflow": null,
            "_model_module_version": "1.2.0",
            "_view_count": null,
            "flex_flow": null,
            "width": null,
            "min_width": null,
            "border": null,
            "align_items": null,
            "bottom": null,
            "_model_module": "@jupyter-widgets/base",
            "top": null,
            "grid_column": null,
            "overflow_y": null,
            "overflow_x": null,
            "grid_auto_flow": null,
            "grid_area": null,
            "grid_template_columns": null,
            "flex": null,
            "_model_name": "LayoutModel",
            "justify_items": null,
            "grid_row": null,
            "max_height": null,
            "align_content": null,
            "visibility": null,
            "align_self": null,
            "height": null,
            "min_height": null,
            "padding": null,
            "grid_auto_rows": null,
            "grid_gap": null,
            "max_width": null,
            "order": null,
            "_view_module_version": "1.2.0",
            "grid_template_areas": null,
            "object_position": null,
            "object_fit": null,
            "grid_auto_columns": null,
            "margin": null,
            "display": null,
            "left": null
          }
        },
        "dd3bfe37e093475b98494173adb6b459": {
          "model_module": "@jupyter-widgets/controls",
          "model_name": "FloatProgressModel",
          "state": {
            "_view_name": "ProgressView",
            "style": "IPY_MODEL_042e09a19a234b9392fbee9e134a5e7a",
            "_dom_classes": [],
            "description": "100%",
            "_model_name": "FloatProgressModel",
            "bar_style": "success",
            "max": 10,
            "_view_module": "@jupyter-widgets/controls",
            "_model_module_version": "1.5.0",
            "value": 10,
            "_view_count": null,
            "_view_module_version": "1.5.0",
            "orientation": "horizontal",
            "min": 0,
            "description_tooltip": null,
            "_model_module": "@jupyter-widgets/controls",
            "layout": "IPY_MODEL_befadec621054683b167b62bde9758c6"
          }
        },
        "dffe254b5c274870bdb8e8db8ba7d7ce": {
          "model_module": "@jupyter-widgets/controls",
          "model_name": "HTMLModel",
          "state": {
            "_view_name": "HTMLView",
            "style": "IPY_MODEL_cb40f713bd424313bd519117f5aa852a",
            "_dom_classes": [],
            "description": "",
            "_model_name": "HTMLModel",
            "placeholder": "​",
            "_view_module": "@jupyter-widgets/controls",
            "_model_module_version": "1.5.0",
            "value": " 10/10 [00:57&lt;00:00,  5.72s/it]",
            "_view_count": null,
            "_view_module_version": "1.5.0",
            "description_tooltip": null,
            "_model_module": "@jupyter-widgets/controls",
            "layout": "IPY_MODEL_42febe5532794d0191e12e03b919367f"
          }
        },
        "042e09a19a234b9392fbee9e134a5e7a": {
          "model_module": "@jupyter-widgets/controls",
          "model_name": "ProgressStyleModel",
          "state": {
            "_view_name": "StyleView",
            "_model_name": "ProgressStyleModel",
            "description_width": "initial",
            "_view_module": "@jupyter-widgets/base",
            "_model_module_version": "1.5.0",
            "_view_count": null,
            "_view_module_version": "1.2.0",
            "bar_color": null,
            "_model_module": "@jupyter-widgets/controls"
          }
        },
        "befadec621054683b167b62bde9758c6": {
          "model_module": "@jupyter-widgets/base",
          "model_name": "LayoutModel",
          "state": {
            "_view_name": "LayoutView",
            "grid_template_rows": null,
            "right": null,
            "justify_content": null,
            "_view_module": "@jupyter-widgets/base",
            "overflow": null,
            "_model_module_version": "1.2.0",
            "_view_count": null,
            "flex_flow": null,
            "width": null,
            "min_width": null,
            "border": null,
            "align_items": null,
            "bottom": null,
            "_model_module": "@jupyter-widgets/base",
            "top": null,
            "grid_column": null,
            "overflow_y": null,
            "overflow_x": null,
            "grid_auto_flow": null,
            "grid_area": null,
            "grid_template_columns": null,
            "flex": null,
            "_model_name": "LayoutModel",
            "justify_items": null,
            "grid_row": null,
            "max_height": null,
            "align_content": null,
            "visibility": null,
            "align_self": null,
            "height": null,
            "min_height": null,
            "padding": null,
            "grid_auto_rows": null,
            "grid_gap": null,
            "max_width": null,
            "order": null,
            "_view_module_version": "1.2.0",
            "grid_template_areas": null,
            "object_position": null,
            "object_fit": null,
            "grid_auto_columns": null,
            "margin": null,
            "display": null,
            "left": null
          }
        },
        "cb40f713bd424313bd519117f5aa852a": {
          "model_module": "@jupyter-widgets/controls",
          "model_name": "DescriptionStyleModel",
          "state": {
            "_view_name": "StyleView",
            "_model_name": "DescriptionStyleModel",
            "description_width": "",
            "_view_module": "@jupyter-widgets/base",
            "_model_module_version": "1.5.0",
            "_view_count": null,
            "_view_module_version": "1.2.0",
            "_model_module": "@jupyter-widgets/controls"
          }
        },
        "42febe5532794d0191e12e03b919367f": {
          "model_module": "@jupyter-widgets/base",
          "model_name": "LayoutModel",
          "state": {
            "_view_name": "LayoutView",
            "grid_template_rows": null,
            "right": null,
            "justify_content": null,
            "_view_module": "@jupyter-widgets/base",
            "overflow": null,
            "_model_module_version": "1.2.0",
            "_view_count": null,
            "flex_flow": null,
            "width": null,
            "min_width": null,
            "border": null,
            "align_items": null,
            "bottom": null,
            "_model_module": "@jupyter-widgets/base",
            "top": null,
            "grid_column": null,
            "overflow_y": null,
            "overflow_x": null,
            "grid_auto_flow": null,
            "grid_area": null,
            "grid_template_columns": null,
            "flex": null,
            "_model_name": "LayoutModel",
            "justify_items": null,
            "grid_row": null,
            "max_height": null,
            "align_content": null,
            "visibility": null,
            "align_self": null,
            "height": null,
            "min_height": null,
            "padding": null,
            "grid_auto_rows": null,
            "grid_gap": null,
            "max_width": null,
            "order": null,
            "_view_module_version": "1.2.0",
            "grid_template_areas": null,
            "object_position": null,
            "object_fit": null,
            "grid_auto_columns": null,
            "margin": null,
            "display": null,
            "left": null
          }
        },
        "683110e5118b4b5589e5ea649efd5207": {
          "model_module": "@jupyter-widgets/controls",
          "model_name": "HBoxModel",
          "state": {
            "_view_name": "HBoxView",
            "_dom_classes": [],
            "_model_name": "HBoxModel",
            "_view_module": "@jupyter-widgets/controls",
            "_model_module_version": "1.5.0",
            "_view_count": null,
            "_view_module_version": "1.5.0",
            "box_style": "",
            "layout": "IPY_MODEL_0867053f161e443eba75ffe18df7376f",
            "_model_module": "@jupyter-widgets/controls",
            "children": [
              "IPY_MODEL_3b1eafd06bf04e33b6dd645814270952",
              "IPY_MODEL_18c8231b0f6b4d05928804fd17494bab"
            ]
          }
        },
        "0867053f161e443eba75ffe18df7376f": {
          "model_module": "@jupyter-widgets/base",
          "model_name": "LayoutModel",
          "state": {
            "_view_name": "LayoutView",
            "grid_template_rows": null,
            "right": null,
            "justify_content": null,
            "_view_module": "@jupyter-widgets/base",
            "overflow": null,
            "_model_module_version": "1.2.0",
            "_view_count": null,
            "flex_flow": null,
            "width": null,
            "min_width": null,
            "border": null,
            "align_items": null,
            "bottom": null,
            "_model_module": "@jupyter-widgets/base",
            "top": null,
            "grid_column": null,
            "overflow_y": null,
            "overflow_x": null,
            "grid_auto_flow": null,
            "grid_area": null,
            "grid_template_columns": null,
            "flex": null,
            "_model_name": "LayoutModel",
            "justify_items": null,
            "grid_row": null,
            "max_height": null,
            "align_content": null,
            "visibility": null,
            "align_self": null,
            "height": null,
            "min_height": null,
            "padding": null,
            "grid_auto_rows": null,
            "grid_gap": null,
            "max_width": null,
            "order": null,
            "_view_module_version": "1.2.0",
            "grid_template_areas": null,
            "object_position": null,
            "object_fit": null,
            "grid_auto_columns": null,
            "margin": null,
            "display": null,
            "left": null
          }
        },
        "3b1eafd06bf04e33b6dd645814270952": {
          "model_module": "@jupyter-widgets/controls",
          "model_name": "FloatProgressModel",
          "state": {
            "_view_name": "ProgressView",
            "style": "IPY_MODEL_fcbcc69651e544d4aa4e6b974f7d6592",
            "_dom_classes": [],
            "description": "100%",
            "_model_name": "FloatProgressModel",
            "bar_style": "success",
            "max": 10,
            "_view_module": "@jupyter-widgets/controls",
            "_model_module_version": "1.5.0",
            "value": 10,
            "_view_count": null,
            "_view_module_version": "1.5.0",
            "orientation": "horizontal",
            "min": 0,
            "description_tooltip": null,
            "_model_module": "@jupyter-widgets/controls",
            "layout": "IPY_MODEL_5f363085a3274908bbf609646fa11fae"
          }
        },
        "18c8231b0f6b4d05928804fd17494bab": {
          "model_module": "@jupyter-widgets/controls",
          "model_name": "HTMLModel",
          "state": {
            "_view_name": "HTMLView",
            "style": "IPY_MODEL_c92f4a62bac9470fab97ec8101743795",
            "_dom_classes": [],
            "description": "",
            "_model_name": "HTMLModel",
            "placeholder": "​",
            "_view_module": "@jupyter-widgets/controls",
            "_model_module_version": "1.5.0",
            "value": " 10/10 [02:40&lt;00:00, 16.06s/it]",
            "_view_count": null,
            "_view_module_version": "1.5.0",
            "description_tooltip": null,
            "_model_module": "@jupyter-widgets/controls",
            "layout": "IPY_MODEL_8aa2e761b03645d1b1fb8684029ebf5f"
          }
        },
        "fcbcc69651e544d4aa4e6b974f7d6592": {
          "model_module": "@jupyter-widgets/controls",
          "model_name": "ProgressStyleModel",
          "state": {
            "_view_name": "StyleView",
            "_model_name": "ProgressStyleModel",
            "description_width": "initial",
            "_view_module": "@jupyter-widgets/base",
            "_model_module_version": "1.5.0",
            "_view_count": null,
            "_view_module_version": "1.2.0",
            "bar_color": null,
            "_model_module": "@jupyter-widgets/controls"
          }
        },
        "5f363085a3274908bbf609646fa11fae": {
          "model_module": "@jupyter-widgets/base",
          "model_name": "LayoutModel",
          "state": {
            "_view_name": "LayoutView",
            "grid_template_rows": null,
            "right": null,
            "justify_content": null,
            "_view_module": "@jupyter-widgets/base",
            "overflow": null,
            "_model_module_version": "1.2.0",
            "_view_count": null,
            "flex_flow": null,
            "width": null,
            "min_width": null,
            "border": null,
            "align_items": null,
            "bottom": null,
            "_model_module": "@jupyter-widgets/base",
            "top": null,
            "grid_column": null,
            "overflow_y": null,
            "overflow_x": null,
            "grid_auto_flow": null,
            "grid_area": null,
            "grid_template_columns": null,
            "flex": null,
            "_model_name": "LayoutModel",
            "justify_items": null,
            "grid_row": null,
            "max_height": null,
            "align_content": null,
            "visibility": null,
            "align_self": null,
            "height": null,
            "min_height": null,
            "padding": null,
            "grid_auto_rows": null,
            "grid_gap": null,
            "max_width": null,
            "order": null,
            "_view_module_version": "1.2.0",
            "grid_template_areas": null,
            "object_position": null,
            "object_fit": null,
            "grid_auto_columns": null,
            "margin": null,
            "display": null,
            "left": null
          }
        },
        "c92f4a62bac9470fab97ec8101743795": {
          "model_module": "@jupyter-widgets/controls",
          "model_name": "DescriptionStyleModel",
          "state": {
            "_view_name": "StyleView",
            "_model_name": "DescriptionStyleModel",
            "description_width": "",
            "_view_module": "@jupyter-widgets/base",
            "_model_module_version": "1.5.0",
            "_view_count": null,
            "_view_module_version": "1.2.0",
            "_model_module": "@jupyter-widgets/controls"
          }
        },
        "8aa2e761b03645d1b1fb8684029ebf5f": {
          "model_module": "@jupyter-widgets/base",
          "model_name": "LayoutModel",
          "state": {
            "_view_name": "LayoutView",
            "grid_template_rows": null,
            "right": null,
            "justify_content": null,
            "_view_module": "@jupyter-widgets/base",
            "overflow": null,
            "_model_module_version": "1.2.0",
            "_view_count": null,
            "flex_flow": null,
            "width": null,
            "min_width": null,
            "border": null,
            "align_items": null,
            "bottom": null,
            "_model_module": "@jupyter-widgets/base",
            "top": null,
            "grid_column": null,
            "overflow_y": null,
            "overflow_x": null,
            "grid_auto_flow": null,
            "grid_area": null,
            "grid_template_columns": null,
            "flex": null,
            "_model_name": "LayoutModel",
            "justify_items": null,
            "grid_row": null,
            "max_height": null,
            "align_content": null,
            "visibility": null,
            "align_self": null,
            "height": null,
            "min_height": null,
            "padding": null,
            "grid_auto_rows": null,
            "grid_gap": null,
            "max_width": null,
            "order": null,
            "_view_module_version": "1.2.0",
            "grid_template_areas": null,
            "object_position": null,
            "object_fit": null,
            "grid_auto_columns": null,
            "margin": null,
            "display": null,
            "left": null
          }
        },
        "31fa0492b0d14455b27e62fdd12ee4a3": {
          "model_module": "@jupyter-widgets/controls",
          "model_name": "HBoxModel",
          "state": {
            "_view_name": "HBoxView",
            "_dom_classes": [],
            "_model_name": "HBoxModel",
            "_view_module": "@jupyter-widgets/controls",
            "_model_module_version": "1.5.0",
            "_view_count": null,
            "_view_module_version": "1.5.0",
            "box_style": "",
            "layout": "IPY_MODEL_ba0df7e730a44c079a2fb34ebf4a0449",
            "_model_module": "@jupyter-widgets/controls",
            "children": [
              "IPY_MODEL_535dbb10086240ecbe3e753b6f813309",
              "IPY_MODEL_f667ee22632b4a80b6348d1d273e34a0"
            ]
          }
        },
        "ba0df7e730a44c079a2fb34ebf4a0449": {
          "model_module": "@jupyter-widgets/base",
          "model_name": "LayoutModel",
          "state": {
            "_view_name": "LayoutView",
            "grid_template_rows": null,
            "right": null,
            "justify_content": null,
            "_view_module": "@jupyter-widgets/base",
            "overflow": null,
            "_model_module_version": "1.2.0",
            "_view_count": null,
            "flex_flow": null,
            "width": null,
            "min_width": null,
            "border": null,
            "align_items": null,
            "bottom": null,
            "_model_module": "@jupyter-widgets/base",
            "top": null,
            "grid_column": null,
            "overflow_y": null,
            "overflow_x": null,
            "grid_auto_flow": null,
            "grid_area": null,
            "grid_template_columns": null,
            "flex": null,
            "_model_name": "LayoutModel",
            "justify_items": null,
            "grid_row": null,
            "max_height": null,
            "align_content": null,
            "visibility": null,
            "align_self": null,
            "height": null,
            "min_height": null,
            "padding": null,
            "grid_auto_rows": null,
            "grid_gap": null,
            "max_width": null,
            "order": null,
            "_view_module_version": "1.2.0",
            "grid_template_areas": null,
            "object_position": null,
            "object_fit": null,
            "grid_auto_columns": null,
            "margin": null,
            "display": null,
            "left": null
          }
        },
        "535dbb10086240ecbe3e753b6f813309": {
          "model_module": "@jupyter-widgets/controls",
          "model_name": "FloatProgressModel",
          "state": {
            "_view_name": "ProgressView",
            "style": "IPY_MODEL_d25baa6338dd4971829f7b17985b8ad6",
            "_dom_classes": [],
            "description": "100%",
            "_model_name": "FloatProgressModel",
            "bar_style": "success",
            "max": 10,
            "_view_module": "@jupyter-widgets/controls",
            "_model_module_version": "1.5.0",
            "value": 10,
            "_view_count": null,
            "_view_module_version": "1.5.0",
            "orientation": "horizontal",
            "min": 0,
            "description_tooltip": null,
            "_model_module": "@jupyter-widgets/controls",
            "layout": "IPY_MODEL_c7b4afbae33c4b80954342d18d04ce08"
          }
        },
        "f667ee22632b4a80b6348d1d273e34a0": {
          "model_module": "@jupyter-widgets/controls",
          "model_name": "HTMLModel",
          "state": {
            "_view_name": "HTMLView",
            "style": "IPY_MODEL_e835d5d9b3804c12874c04d2296af23e",
            "_dom_classes": [],
            "description": "",
            "_model_name": "HTMLModel",
            "placeholder": "​",
            "_view_module": "@jupyter-widgets/controls",
            "_model_module_version": "1.5.0",
            "value": " 10/10 [10:12&lt;00:00, 61.25s/it]",
            "_view_count": null,
            "_view_module_version": "1.5.0",
            "description_tooltip": null,
            "_model_module": "@jupyter-widgets/controls",
            "layout": "IPY_MODEL_114625b7a47a4867baf8eec9cf55b88c"
          }
        },
        "d25baa6338dd4971829f7b17985b8ad6": {
          "model_module": "@jupyter-widgets/controls",
          "model_name": "ProgressStyleModel",
          "state": {
            "_view_name": "StyleView",
            "_model_name": "ProgressStyleModel",
            "description_width": "initial",
            "_view_module": "@jupyter-widgets/base",
            "_model_module_version": "1.5.0",
            "_view_count": null,
            "_view_module_version": "1.2.0",
            "bar_color": null,
            "_model_module": "@jupyter-widgets/controls"
          }
        },
        "c7b4afbae33c4b80954342d18d04ce08": {
          "model_module": "@jupyter-widgets/base",
          "model_name": "LayoutModel",
          "state": {
            "_view_name": "LayoutView",
            "grid_template_rows": null,
            "right": null,
            "justify_content": null,
            "_view_module": "@jupyter-widgets/base",
            "overflow": null,
            "_model_module_version": "1.2.0",
            "_view_count": null,
            "flex_flow": null,
            "width": null,
            "min_width": null,
            "border": null,
            "align_items": null,
            "bottom": null,
            "_model_module": "@jupyter-widgets/base",
            "top": null,
            "grid_column": null,
            "overflow_y": null,
            "overflow_x": null,
            "grid_auto_flow": null,
            "grid_area": null,
            "grid_template_columns": null,
            "flex": null,
            "_model_name": "LayoutModel",
            "justify_items": null,
            "grid_row": null,
            "max_height": null,
            "align_content": null,
            "visibility": null,
            "align_self": null,
            "height": null,
            "min_height": null,
            "padding": null,
            "grid_auto_rows": null,
            "grid_gap": null,
            "max_width": null,
            "order": null,
            "_view_module_version": "1.2.0",
            "grid_template_areas": null,
            "object_position": null,
            "object_fit": null,
            "grid_auto_columns": null,
            "margin": null,
            "display": null,
            "left": null
          }
        },
        "e835d5d9b3804c12874c04d2296af23e": {
          "model_module": "@jupyter-widgets/controls",
          "model_name": "DescriptionStyleModel",
          "state": {
            "_view_name": "StyleView",
            "_model_name": "DescriptionStyleModel",
            "description_width": "",
            "_view_module": "@jupyter-widgets/base",
            "_model_module_version": "1.5.0",
            "_view_count": null,
            "_view_module_version": "1.2.0",
            "_model_module": "@jupyter-widgets/controls"
          }
        },
        "114625b7a47a4867baf8eec9cf55b88c": {
          "model_module": "@jupyter-widgets/base",
          "model_name": "LayoutModel",
          "state": {
            "_view_name": "LayoutView",
            "grid_template_rows": null,
            "right": null,
            "justify_content": null,
            "_view_module": "@jupyter-widgets/base",
            "overflow": null,
            "_model_module_version": "1.2.0",
            "_view_count": null,
            "flex_flow": null,
            "width": null,
            "min_width": null,
            "border": null,
            "align_items": null,
            "bottom": null,
            "_model_module": "@jupyter-widgets/base",
            "top": null,
            "grid_column": null,
            "overflow_y": null,
            "overflow_x": null,
            "grid_auto_flow": null,
            "grid_area": null,
            "grid_template_columns": null,
            "flex": null,
            "_model_name": "LayoutModel",
            "justify_items": null,
            "grid_row": null,
            "max_height": null,
            "align_content": null,
            "visibility": null,
            "align_self": null,
            "height": null,
            "min_height": null,
            "padding": null,
            "grid_auto_rows": null,
            "grid_gap": null,
            "max_width": null,
            "order": null,
            "_view_module_version": "1.2.0",
            "grid_template_areas": null,
            "object_position": null,
            "object_fit": null,
            "grid_auto_columns": null,
            "margin": null,
            "display": null,
            "left": null
          }
        }
      }
    }
  },
  "cells": [
    {
      "cell_type": "markdown",
      "metadata": {
        "id": "K8uR2IZWOdTd"
      },
      "source": [
        "# PyTorch basics\n",
        "\n",
        "<a href=\"https://colab.research.google.com/github/m12sl/dl-hse-2021/blob/master/02-pytorch/homework.ipynb\" target=\"_parent\">\n",
        "  <img src=\"https://colab.research.google.com/assets/colab-badge.svg\" alt=\"Open In Colab\"/>\n",
        "</a>\n",
        "\n",
        "В этой тетрадке мы познакомимся с общими принципами построения нейронных сетей.\n",
        "\n",
        "**Цели тетрадки**\n",
        "\n",
        "1. Знакомство с базовыми слоями PyTorch\n",
        "1. Практика в построении и обучении сетей\n",
        "\n",
        "**(повтор) Материалы по pytorch:**\n",
        "\n",
        "* [PyTorch docs](https://pytorch.org/docs/stable/index.html)\n",
        "* [Классная статья про pytorch internal](http://blog.ezyang.com/2019/05/pytorch-internals/)"
      ]
    },
    {
      "cell_type": "markdown",
      "metadata": {
        "id": "ZuOc615uOdTq"
      },
      "source": [
        "## Prerequirements\n",
        "\n",
        "```\n",
        "pip install torch torchvision numpy matplotlib\n",
        "```"
      ]
    },
    {
      "cell_type": "code",
      "metadata": {
        "execution": {
          "iopub.execute_input": "2021-01-24T12:02:03.697132Z",
          "iopub.status.busy": "2021-01-24T12:02:03.696647Z",
          "iopub.status.idle": "2021-01-24T12:02:05.150001Z",
          "shell.execute_reply": "2021-01-24T12:02:05.148949Z",
          "shell.execute_reply.started": "2021-01-24T12:02:03.697089Z"
        },
        "id": "_haMe73sOdTr"
      },
      "source": [
        "import torch\n",
        "\n",
        "import torch.nn as nn\n",
        "import torch.nn.functional as F\n",
        "\n",
        "from torch.utils.data import Dataset, DataLoader\n",
        "from torch.utils.tensorboard import SummaryWriter\n",
        "\n",
        "\n",
        "from torchvision import transforms\n",
        "from torchvision.datasets import MNIST\n",
        "\n",
        "import torch.optim as optim\n",
        "\n",
        "import matplotlib.pyplot as plt\n",
        "import numpy as np\n",
        "from tqdm.auto import tqdm\n",
        "\n",
        "import warnings\n",
        "warnings.filterwarnings(\"ignore\")"
      ],
      "execution_count": 1,
      "outputs": []
    },
    {
      "cell_type": "code",
      "metadata": {
        "id": "1AG5EvHvFOEV"
      },
      "source": [
        "writer = SummaryWriter(\"./check-this/\")\r\n",
        "\r\n",
        "fake_loss = 1 / np.arange(1, 100)\r\n",
        "for global_step, point in enumerate(fake_loss):\r\n",
        "    writer.add_scalar(\"lossy\", point, global_step=global_step)\r\n",
        "writer.close()"
      ],
      "execution_count": 2,
      "outputs": []
    },
    {
      "cell_type": "code",
      "metadata": {
        "id": "h6ptOCpsQn8v"
      },
      "source": [
        "class Trainer:\r\n",
        "    def __init__(self, model, optimizer, train_dataset, val_dataset, batch_size=128):\r\n",
        "        self.model = model\r\n",
        "        self.optimizer = optimizer\r\n",
        "        self.train_dataset = train_dataset\r\n",
        "        self.val_dataset = val_dataset\r\n",
        "\r\n",
        "        self.batch_size = batch_size\r\n",
        "\r\n",
        "        self.device = 'cpu'\r\n",
        "        if torch.cuda.is_available():\r\n",
        "            self.device = torch.cuda.current_device()\r\n",
        "            self.model = self.model.to(self.device)\r\n",
        "        \r\n",
        "        self.global_step = 0\r\n",
        "        self.writer = SummaryWriter(\"./tmp/\")\r\n",
        "        self.val_losses = []\r\n",
        "        self.train_losses = []\r\n",
        "\r\n",
        "    def save_checkpoint(self, path):\r\n",
        "        torch.save(self.model.state_dict(), path)\r\n",
        "\r\n",
        "    def train(self, num_epochs):\r\n",
        "        model = self.model\r\n",
        "        optimizer = self.optimizer\r\n",
        "        \r\n",
        "        train_loader = DataLoader(self.train_dataset, shuffle=True, pin_memory=True, batch_size=self.batch_size)\r\n",
        "        val_loader = DataLoader(self.val_dataset, shuffle=False, pin_memory=True, batch_size=self.batch_size)\r\n",
        "        best_loss = float('inf')\r\n",
        "        \r\n",
        "        for epoch in tqdm(range(num_epochs)):\r\n",
        "            model.train()\r\n",
        "            for batch in train_loader:\r\n",
        "                batch = {k: v.to(self.device) for k, v in batch.items()}\r\n",
        "                loss, details = model.compute_all(batch)\r\n",
        "                self.train_losses.append(loss.item())\r\n",
        "                optimizer.zero_grad()\r\n",
        "                loss.backward()\r\n",
        "                optimizer.step()\r\n",
        "                for k, v in details.items():\r\n",
        "                  self.writer.add_scalar(k, v, global_step=self.global_step)\r\n",
        "                  self.global_step += 1\r\n",
        "            \r\n",
        "            model.eval()\r\n",
        "            \r\n",
        "            \r\n",
        "            for batch in val_loader:\r\n",
        "                batch = {k: v.to(self.device) for k, v in batch.items()}\r\n",
        "                loss, details = model.compute_all(batch)\r\n",
        "                self.val_losses.append(loss.item())\r\n",
        "                \r\n",
        "            val_loss = np.mean(self.val_losses)        \r\n",
        "            if val_loss < best_loss:\r\n",
        "                self.save_checkpoint(\"./best_checkpoint.pth\")\r\n",
        "                best_loss = val_loss\r\n",
        " \r\n",
        "    def plot(self): # добавил для себя, для удобной визуализации\r\n",
        "      plt.figure(figsize=(16, 10))\r\n",
        "      plt.subplot(2,1,1)\r\n",
        "      plt.plot(self.val_losses, label='val sample', color='red')\r\n",
        "      plt.ylabel('Loss')\r\n",
        "      plt.legend()\r\n",
        "      plt.subplot(2,1,2)\r\n",
        "      plt.plot(self.train_losses, label='train sample', color='blue')\r\n",
        "      plt.ylabel('Loss')\r\n",
        "      plt.legend()\r\n",
        "      plt.show()"
      ],
      "execution_count": 3,
      "outputs": []
    },
    {
      "cell_type": "markdown",
      "metadata": {
        "id": "tD99LezYOdTs"
      },
      "source": [
        "## Hello MNIST\n",
        "\n",
        "Прежде чем собирать сеть, давайте определим инстансы класса `Dataset`, которые будут возвращать примеры из тренировочной и валидационной выборок.  \n",
        "С помощью ячейки ниже, мы скачаем датасет [MNIST](http://yann.lecun.com/exdb/mnist/) в текущую директорию и сможем получать примеры из соответствующих объектов."
      ]
    },
    {
      "cell_type": "code",
      "metadata": {
        "execution": {
          "iopub.execute_input": "2021-01-24T12:02:05.151814Z",
          "iopub.status.busy": "2021-01-24T12:02:05.151568Z",
          "iopub.status.idle": "2021-01-24T12:02:05.214937Z",
          "shell.execute_reply": "2021-01-24T12:02:05.214337Z",
          "shell.execute_reply.started": "2021-01-24T12:02:05.151789Z"
        },
        "id": "Q46EMM7gOdTt"
      },
      "source": [
        " transform_to_tensor = transforms.Compose([\n",
        "     transforms.ToTensor()\n",
        " ])\n",
        "\n",
        " mnist_train = MNIST(root='./', train=True, download=True, transform=transform_to_tensor)\n",
        " mnist_val = MNIST(root='./', train=False, download=True, transform=transform_to_tensor)"
      ],
      "execution_count": 4,
      "outputs": []
    },
    {
      "cell_type": "code",
      "metadata": {
        "execution": {
          "iopub.execute_input": "2021-01-24T12:02:05.217079Z",
          "iopub.status.busy": "2021-01-24T12:02:05.216708Z",
          "iopub.status.idle": "2021-01-24T12:02:05.417572Z",
          "shell.execute_reply": "2021-01-24T12:02:05.416852Z",
          "shell.execute_reply.started": "2021-01-24T12:02:05.217052Z"
        },
        "colab": {
          "base_uri": "https://localhost:8080/",
          "height": 95
        },
        "id": "i8rt9leqOdTt",
        "outputId": "859079c8-c4b4-4bab-9c4e-867ebf8915f0"
      },
      "source": [
        "def show_examples(dataset: Dataset, num_examples: int = 4):\n",
        "    fig, ax = plt.subplots(1, num_examples)\n",
        "    \n",
        "    for i in range(num_examples):\n",
        "        img, label = dataset[i]\n",
        "        ax[i].imshow(img[0])\n",
        "        ax[i].set_title(f'label: {label}')\n",
        "        ax[i].axis('off')\n",
        "    plt.show()\n",
        "    \n",
        "    \n",
        "show_examples(dataset=mnist_train, num_examples=6)"
      ],
      "execution_count": 5,
      "outputs": [
        {
          "output_type": "display_data",
          "data": {
            "image/png": "[encoded data removed]",
            "text/plain": [
              "<Figure size 432x288 with 6 Axes>"
            ]
          },
          "metadata": {
            "tags": [],
            "needs_background": "light"
          }
        }
      ]
    },
    {
      "cell_type": "markdown",
      "metadata": {
        "id": "uTtIYfeGE0hk"
      },
      "source": [
        "Я решил воспользоваться классом с предыдущего семинара: "
      ]
    },
    {
      "cell_type": "code",
      "metadata": {
        "id": "Eo29-o3LCwsJ"
      },
      "source": [
        "class VectorSet:\r\n",
        "    def __init__(self, train=True):\r\n",
        "        self.data = MNIST(\"./tmp\", train=train, download=True)\r\n",
        "    \r\n",
        "    def __len__(self):\r\n",
        "        return len(self.data)\r\n",
        "    \r\n",
        "    def __getitem__(self, item):\r\n",
        "        img, label = self.data[item]\r\n",
        "        img = np.array(img).astype(np.float32).reshape(-1)\r\n",
        "        return dict(\r\n",
        "            sample=img,\r\n",
        "            label=label,\r\n",
        "        )"
      ],
      "execution_count": 6,
      "outputs": []
    },
    {
      "cell_type": "code",
      "metadata": {
        "id": "FUdcj1j0DpY5"
      },
      "source": [
        "trainset = VectorSet(train=True)\r\n",
        "valset = VectorSet(train=False)"
      ],
      "execution_count": 7,
      "outputs": []
    },
    {
      "cell_type": "markdown",
      "metadata": {
        "id": "C-JbFSQDOdTt"
      },
      "source": [
        "Посмотрим на несколько примеров из тренировочной выборки"
      ]
    },
    {
      "cell_type": "markdown",
      "metadata": {
        "id": "B1jxWyvVOdTu"
      },
      "source": [
        "## Задание 1 (бонус)\n",
        "**(0.4 балла, бонус)** Напишите свою версию датасета, который будет читать картинки с диска.  \n",
        "Подразумевается, что если вы написали свой датасет, то он будет использоваться при обучении вместо дефолтного `MNIST`.  \n",
        "Вам понадобится архив [Google Drive](https://drive.google.com/file/d/1DOtScRd7la_sJflLgoNa0vFUuhjlVHa7/view?usp=sharing):\n",
        "- /\n",
        "    - /train.csv\n",
        "    - /val.csv\n",
        "    - /train/{image_name}.png\n",
        "    - /val/{image_name}.png\n",
        "\n",
        "CSV файлы содержат название файла и его лейбл: image_name, label.\n",
        "\n",
        "*Hint 1:* нужно унаследоваться от класса `Dataset` и переопределить методы `__getitem__` и `__len__`.\n",
        "Первый должен возвращать картинку и ее лейбл, а второй количество примеров в датасете.\n",
        "(На самом деле второй метод не обязателен для самого датасета, но он необходим для\n",
        "[семплера](https://pytorch.org/docs/stable/data.html#torch.utils.data.RandomSampler),\n",
        "который используется даталоадером)\n",
        "(см. [PyTorch docs](https://pytorch.org/docs/stable/data.html#torch.utils.data.Dataset),\n",
        "[PyTorch tutorual](https://pytorch.org/tutorials/recipes/recipes/custom_dataset_transforms_loader.html?highlight=dataset))  \n",
        "*Hint 2:* для работы с картиноками лучше использовать OpenCV: `pip install opencv-python-headless`.\n",
        "В частности [cv2.imread](https://docs.opencv.org/master/d4/da8/group__imgcodecs.html#ga288b8b3da0892bd651fce07b3bbd3a56).  \n",
        "*Hint 3:* обратите особое внимание на то, что возвращает функция `cv2.imread`"
      ]
    },
    {
      "cell_type": "code",
      "metadata": {
        "id": "0ZVAAv82pfpO"
      },
      "source": [
        "#!pip install cv2\r\n",
        "import cv2\r\n",
        "import pandas as pd"
      ],
      "execution_count": 18,
      "outputs": []
    },
    {
      "cell_type": "code",
      "metadata": {
        "id": "UlahoIGLOdTu"
      },
      "source": [
        "class DatasetMNIST(Dataset):\n",
        "    def __init__(self, dir:str, is_train=True):\n",
        "        self.dir = dir # папка, где лежат наши датасеты\n",
        "        if is_train: # выбираем, что загружать\n",
        "            self.set = 'train'\n",
        "        else:\n",
        "            self.set = 'val'\n",
        "        self.labels = pd.read_csv(dir+'/' + self.set + '.csv') # загружаем\n",
        "        \n",
        "\n",
        "    def __len__(self):\n",
        "        return len(self.labels) \n",
        "    \n",
        "    def __getitem__(self, index):\n",
        "\n",
        "        label = self.labels.iloc[index]['label']\n",
        "        name_img = str(self.labels.iloc[index]['image_name'])\n",
        "\n",
        "        while len(name_img) < 5:\n",
        "            name_img = '0' + name_img\n",
        "                \n",
        "        path = self.dir + '/' + self.set + '/' + name_img + '.png'\n",
        "        rgb_img = cv2.cvtColor(cv2.imread(path), cv2.COLOR_BGR2RGB) # cv2.imread(path) возвращает BGR, a не RGB! http://robocraft.ru/blog/computervision/4025.html\n",
        "\n",
        "        return dict(sample=torch.tensor(rgb_img, dtype=torch.float64), label=label)"
      ],
      "execution_count": 17,
      "outputs": []
    },
    {
      "cell_type": "markdown",
      "metadata": {
        "id": "iLlNJbF1qBQ2"
      },
      "source": [
        "Класс сверху я не тестил, но все проверил 5 раз. Просто я делаю эту дз с рабочего компа, где закрыт доступ к гугл дискам)))"
      ]
    },
    {
      "cell_type": "markdown",
      "metadata": {
        "id": "poN0wpGqOdTv"
      },
      "source": [
        "## Задание 2\n",
        "**(0.3 балла)** Напишите класс MLP сети из 3 линейных слоев, которая будет получать на вход\n",
        "батч картинок размера [BS, C, H, W]\n",
        "\n",
        "*Hint 1:* метод `reshape` поможет вытянуть картинку в вектор.  \n",
        "*Hint 2:* выход должен соответствовать количеству лейблов, то есть 10.  \n",
        "*Hint 3:* пачка линейных слоев подряд не имеет смысла без нелинейностей между ними."
      ]
    },
    {
      "cell_type": "code",
      "metadata": {
        "id": "Hu0LJlqEOdTv"
      },
      "source": [
        "class CustomMLP(nn.Module):\n",
        "    def __init__(self,\n",
        "                 num_pixels_per_img: int = 784,  # hint: 28*28 == 784\n",
        "                 ):\n",
        "        super().__init__()\n",
        "        self.num_pixels_per_img = num_pixels_per_img\n",
        "        # here you can init layers and stack them with nn.Sequential\n",
        "        self.layers = nn.Sequential(nn.Linear(num_pixels_per_img, 128),\n",
        "                                    nn.ReLU(),\n",
        "                                    nn.Linear(128, 64),\n",
        "                                    nn.ReLU(),\n",
        "                                    nn.Linear(64, 10)) # ну с таким перцентропом все легко, главное релушки не забывать\n",
        "\n",
        "        \n",
        "    def forward(self, x):\n",
        "        # describe usage of layers here, be careful with input shape\n",
        "        return self.layers(x)\n",
        "    \n",
        "    def compute_all(self, batch): # удобно сделать функцию, в которой вычисляется лосс по пришедшему батчу\n",
        "        x = batch['sample'] / 255.0\n",
        "        x = x.reshape(-1, self.num_pixels_per_img) # вытягиваем картинку в вектор\n",
        "        y = batch['label']\n",
        "        logits = self.layers(x)\n",
        "        \n",
        "        loss = F.cross_entropy(logits, y)\n",
        "        acc = (logits.argmax(axis=1) == y).float().mean().cpu().numpy()\n",
        "        metrics = dict(acc=acc)\n",
        "        return loss, metrics\n"
      ],
      "execution_count": 9,
      "outputs": []
    },
    {
      "cell_type": "code",
      "metadata": {
        "colab": {
          "base_uri": "https://localhost:8080/",
          "height": 641,
          "referenced_widgets": [
            "5735a560c8a74f7ebba7bf92fa637d38",
            "01fda205f55641ec822dd56befe5be54",
            "dd3bfe37e093475b98494173adb6b459",
            "dffe254b5c274870bdb8e8db8ba7d7ce",
            "042e09a19a234b9392fbee9e134a5e7a",
            "befadec621054683b167b62bde9758c6",
            "cb40f713bd424313bd519117f5aa852a",
            "42febe5532794d0191e12e03b919367f"
          ]
        },
        "id": "tj838FCdQ4Kd",
        "outputId": "9b4f16b3-6d6f-4287-8af8-e25068791ca8"
      },
      "source": [
        "# Как и просилось, давайте сразу тестить!\r\n",
        "model = CustomMLP()\r\n",
        "opt = optim.SGD(model.parameters(), lr=1e-2)\r\n",
        "trainer = Trainer(model, opt, trainset, valset, batch_size=128)\r\n",
        "\r\n",
        "trainer.train(10)\r\n",
        "\r\n",
        "trainer.plot()"
      ],
      "execution_count": 10,
      "outputs": [
        {
          "output_type": "display_data",
          "data": {
            "application/vnd.jupyter.widget-view+json": {
              "model_id": "5735a560c8a74f7ebba7bf92fa637d38",
              "version_minor": 0,
              "version_major": 2
            },
            "text/plain": [
              "HBox(children=(FloatProgress(value=0.0, max=10.0), HTML(value='')))"
            ]
          },
          "metadata": {
            "tags": []
          }
        },
        {
          "output_type": "stream",
          "text": [
            "\n"
          ],
          "name": "stdout"
        },
        {
          "output_type": "display_data",
          "data": {
            "image/png": "[encoded data removed]",
            "text/plain": [
              "<Figure size 1152x720 with 2 Axes>"
            ]
          },
          "metadata": {
            "tags": [],
            "needs_background": "light"
          }
        }
      ]
    },
    {
      "cell_type": "markdown",
      "metadata": {
        "id": "Dukl7yVGOdTw"
      },
      "source": [
        "## Задание 3\n",
        "**(0.3 балла)** Напишите класс CNN сети из 3 сверточных слоев.\n",
        "\n",
        "*Hint 1:* на вход все те же батчи размера [BS, C, H, W]  \n",
        "*Hint 2:* описание сверточных слоев [PyTorch docs](https://pytorch.org/docs/stable/nn.html#convolution-layers)"
      ]
    },
    {
      "cell_type": "code",
      "metadata": {
        "id": "UtSPKLvxOdTx"
      },
      "source": [
        "class CustomCNN(nn.Module):\n",
        "    def __init__(self):\n",
        "        super().__init__()\n",
        "        self.layers = nn.Sequential(nn.Conv2d(1, 4, kernel_size=3), # сначала обычную свертку\n",
        "                                    nn.ReLU(), # релу \n",
        "                                    nn.MaxPool2d(2), # макс пуллим\n",
        "                                    nn.Conv2d(4, 16, kernel_size=3), # увеличим еще число наших каналов\n",
        "                                    nn.ReLU(), # релу\n",
        "                                    nn.MaxPool2d(2), # макспуллим\n",
        "                                    nn.Conv2d(16, 64, kernel_size=3), # и еще раз свертку \n",
        "                                    nn.ReLU(), # релулим\n",
        "                                    nn.MaxPool2d(2), # макспулим \n",
        "                                    nn.Flatten()) # вытягиваем\n",
        "\n",
        "    def forward(self, x):\n",
        "        self.layers(x)\n",
        "    \n",
        "    def compute_all(self, batch):\n",
        "        x = batch['sample'] / 255.0 # так как при загрузке датасета мы не делили его на 255, давайте это делать тут\n",
        "        x = x.reshape(-1, 1, 28, 28) # [bs, c, h, w]\n",
        "        y = batch['label']\n",
        "        logits = self.layers(x)\n",
        "        \n",
        "        loss = F.cross_entropy(logits, y)\n",
        "        acc = (logits.argmax(axis=1) == y).float().mean().cpu().numpy()\n",
        "        metrics = dict(acc=acc)\n",
        "        return loss, metrics"
      ],
      "execution_count": 11,
      "outputs": []
    },
    {
      "cell_type": "code",
      "metadata": {
        "colab": {
          "base_uri": "https://localhost:8080/",
          "height": 641,
          "referenced_widgets": [
            "683110e5118b4b5589e5ea649efd5207",
            "0867053f161e443eba75ffe18df7376f",
            "3b1eafd06bf04e33b6dd645814270952",
            "18c8231b0f6b4d05928804fd17494bab",
            "fcbcc69651e544d4aa4e6b974f7d6592",
            "5f363085a3274908bbf609646fa11fae",
            "c92f4a62bac9470fab97ec8101743795",
            "8aa2e761b03645d1b1fb8684029ebf5f"
          ]
        },
        "id": "k6xiL9vMLgi2",
        "outputId": "e0617451-d03e-49b7-9c5d-6b6725217832"
      },
      "source": [
        "model = CustomCNN()\r\n",
        "opt = optim.SGD(model.parameters(), lr=1e-2)\r\n",
        "trainer = Trainer(model, opt, trainset, valset, batch_size=128)\r\n",
        "\r\n",
        "trainer.train(10)\r\n",
        "\r\n",
        "trainer.plot()"
      ],
      "execution_count": 12,
      "outputs": [
        {
          "output_type": "display_data",
          "data": {
            "application/vnd.jupyter.widget-view+json": {
              "model_id": "683110e5118b4b5589e5ea649efd5207",
              "version_minor": 0,
              "version_major": 2
            },
            "text/plain": [
              "HBox(children=(FloatProgress(value=0.0, max=10.0), HTML(value='')))"
            ]
          },
          "metadata": {
            "tags": []
          }
        },
        {
          "output_type": "stream",
          "text": [
            "\n"
          ],
          "name": "stdout"
        },
        {
          "output_type": "display_data",
          "data": {
            "image/png": "[encoded data removed]",
            "text/plain": [
              "<Figure size 1152x720 with 2 Axes>"
            ]
          },
          "metadata": {
            "tags": [],
            "needs_background": "light"
          }
        }
      ]
    },
    {
      "cell_type": "markdown",
      "metadata": {
        "id": "7j479rzDOdTx"
      },
      "source": [
        "## Задание 4\n",
        "**(0.3 балла)** Напишите класс CNN сети из 3 блоков с добавлением skip-connection блока\n",
        "(ResNet [paper](https://arxiv.org/abs/1512.03385)).  \n",
        "**(0.2 балла, бонус)** Реализовать residual блок в отдельном классе `ResBlock`.\n",
        "\n",
        "*Hint 1:* на вход все те же батчи размера [BS, C, H, W]  \n",
        "*Hint 2:* пример skip-connection:  \n",
        "![image](https://i1.wp.com/dangminhthang.com/wp-content/uploads/2020/06/resnet-block.jpg?fit=400%2C225)"
      ]
    },
    {
      "cell_type": "code",
      "metadata": {
        "id": "6AzzJtVkOdTy"
      },
      "source": [
        "class ResBlock(nn.Module):\n",
        "    def __init__(self, int_out): # по идее потом, чтобы плюсоваться с х, мы должна всегда подавать и забирать одинаковое число каналов\n",
        "        super(ResBlock, self).__init__()\n",
        "\n",
        "        self.inner = nn.Sequential(\n",
        "            nn.Conv2d(int_out, int_out*2, kernel_size=3, padding=1), # пусть количество скрытых слоев всегда больше количества слоев вхождения в два раза\n",
        "            nn.ReLU(),\n",
        "            nn.Conv2d(int_out*2, int_out, kernel_size=3, padding=1) # ну и обратно возвращаем наше количество каналов\n",
        "        )\n",
        "\n",
        "        self.relu = nn.ReLU() # потом чтобы применить к сумме identity и F(x)\n",
        "        \n",
        "    def forward(self, x):\n",
        "        return self.relu(self.inner(x) + x )\n",
        "    \n",
        "    def compute_all(self, batch):\n",
        "        x = batch['sample']\n",
        "        y = batch['label']\n",
        "        logits = self.forward(x)\n",
        "        \n",
        "        loss = F.cross_entropy(logits, y)\n",
        "        acc = (logits.argmax(axis=1) == y).float().mean().cpu().numpy()\n",
        "        metrics = dict(acc=acc)\n",
        "        return loss, metrics\n",
        "\n",
        "\n",
        "class CustomResNet(nn.Module):\n",
        "    def __init__(self):\n",
        "        super().__init__()\n",
        "        self.inner = nn.Sequential(nn.Conv2d(1, 2, kernel_size=3), # увеличиваем чисто каналов, чтобы в РесБлок подать больше, чем один\n",
        "                                   ResBlock(2), # собсна наш РесБлок\n",
        "                                   nn.MaxPool2d(2), # по классике начинаем новый слой с макспулла\n",
        "                                   nn.Conv2d(2, 16, kernel_size=3), # еще раз увеличим число каналов\n",
        "                                   ResBlock(16), \n",
        "                                   nn.MaxPool2d(2),\n",
        "                                   nn.Conv2d(16, 64, kernel_size=2),\n",
        "                                   ResBlock(64),\n",
        "                                   nn.Flatten()) # вытягиваем                  \n",
        "               \n",
        "    def forward(self, x):\n",
        "        return self.inner(x)\n",
        "    \n",
        "    def compute_all(self, batch):\n",
        "        x = batch['sample'].reshape(-1, 1, 28, 28) # [bs, c, h, w]\n",
        "        y = batch['label']\n",
        "        logits = self.forward(x)\n",
        "        \n",
        "        loss = F.cross_entropy(logits, y)\n",
        "        acc = (logits.argmax(axis=1) == y).float().mean().cpu().numpy()\n",
        "        metrics = dict(acc=acc)\n",
        "        return loss, metrics"
      ],
      "execution_count": 13,
      "outputs": []
    },
    {
      "cell_type": "code",
      "metadata": {
        "colab": {
          "base_uri": "https://localhost:8080/",
          "height": 641,
          "referenced_widgets": [
            "31fa0492b0d14455b27e62fdd12ee4a3",
            "ba0df7e730a44c079a2fb34ebf4a0449",
            "535dbb10086240ecbe3e753b6f813309",
            "f667ee22632b4a80b6348d1d273e34a0",
            "d25baa6338dd4971829f7b17985b8ad6",
            "c7b4afbae33c4b80954342d18d04ce08",
            "e835d5d9b3804c12874c04d2296af23e",
            "114625b7a47a4867baf8eec9cf55b88c"
          ]
        },
        "id": "aDMcPeRXOdTy",
        "outputId": "6eebad19-2c93-436f-8957-bff8c6c8acae"
      },
      "source": [
        "model = CustomResNet()\n",
        "opt = optim.SGD(model.parameters(), lr=1e-2)\n",
        "trainer = Trainer(model, opt, trainset, valset, batch_size=128)\n",
        "\n",
        "trainer.train(10)\n",
        "\n",
        "trainer.plot()"
      ],
      "execution_count": 14,
      "outputs": [
        {
          "output_type": "display_data",
          "data": {
            "application/vnd.jupyter.widget-view+json": {
              "model_id": "31fa0492b0d14455b27e62fdd12ee4a3",
              "version_minor": 0,
              "version_major": 2
            },
            "text/plain": [
              "HBox(children=(FloatProgress(value=0.0, max=10.0), HTML(value='')))"
            ]
          },
          "metadata": {
            "tags": []
          }
        },
        {
          "output_type": "stream",
          "text": [
            "\n"
          ],
          "name": "stdout"
        },
        {
          "output_type": "display_data",
          "data": {
            "image/png": "[encoded data removed]",
            "text/plain": [
              "<Figure size 1152x720 with 2 Axes>"
            ]
          },
          "metadata": {
            "tags": [],
            "needs_background": "light"
          }
        }
      ]
    },
    {
      "cell_type": "markdown",
      "metadata": {
        "id": "iircxiueOdTy"
      },
      "source": [
        "## Задание 5\n",
        "**(0.1 балла)** Инициализируйте и обучите сети из пунктов 1, 2, 3, используя класс `Trainer` из семинара."
      ]
    },
    {
      "cell_type": "markdown",
      "metadata": {
        "id": "sis7e8DCBkv_"
      },
      "source": [
        "_Я делал это сразу, иначе как понять, что все работает)))_"
      ]
    }
  ]
}
